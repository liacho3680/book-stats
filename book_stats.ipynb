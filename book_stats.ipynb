{
  "nbformat": 4,
  "nbformat_minor": 0,
  "metadata": {
    "colab": {
      "provenance": [],
      "authorship_tag": "ABX9TyM3IWQReSRKbDCdZlXN0Kyt"
    },
    "kernelspec": {
      "name": "python3",
      "display_name": "Python 3"
    },
    "language_info": {
      "name": "python"
    }
  },
  "cells": [
    {
      "cell_type": "code",
      "execution_count": 5,
      "metadata": {
        "id": "dM5N5ZLSmYl9"
      },
      "outputs": [],
      "source": [
        "#import packages\n",
        "import pandas as pd\n",
        "import math\n",
        "import matplotlib.pyplot as plt\n",
        "import seaborn as sns"
      ]
    },
    {
      "cell_type": "code",
      "source": [
        "#load & combine data\n",
        "#read22 = pd.read_csv('read-2022.csv')\n",
        "#read23 = pd.read_csv('read-2023.csv')\n",
        "read24 = pd.read_csv('read-2024.csv')\n",
        "\n",
        "#joint-read = pd.concat(, ignore_index=True)"
      ],
      "metadata": {
        "id": "T6nejGoem6vK"
      },
      "execution_count": 54,
      "outputs": []
    },
    {
      "cell_type": "code",
      "source": [
        "#cleaning data\n",
        "def clean_data(df):\n",
        "    #clean and prepare the reading log data\n",
        "    #drop last column\n",
        "    df = df.iloc[:, :-1]\n",
        "\n",
        "    #drop completely empty rows\n",
        "    df = df.dropna(how=\"all\")\n",
        "\n",
        "    #convert dates\n",
        "    #df[\"end date\"] = pd.to_datetime(df[\"end date\"], errors=\"coerce\") *** need to fix\n",
        "    df[\"year pub\"]= df[\"year pub\"].str.replace(\",\", \"\", regex=False).astype(float)\n",
        "    return df\n",
        "\n",
        "read24 = clean_data(read24)\n",
        "read24.head()\n"
      ],
      "metadata": {
        "colab": {
          "base_uri": "https://localhost:8080/",
          "height": 547
        },
        "id": "vqZY7tnNYX1a",
        "outputId": "c2338ed1-747b-45c1-d311-e698808bf803"
      },
      "execution_count": 61,
      "outputs": [
        {
          "output_type": "error",
          "ename": "KeyError",
          "evalue": "'end date'",
          "traceback": [
            "\u001b[0;31m---------------------------------------------------------------------------\u001b[0m",
            "\u001b[0;31mKeyError\u001b[0m                                  Traceback (most recent call last)",
            "\u001b[0;32m/usr/local/lib/python3.11/dist-packages/pandas/core/indexes/base.py\u001b[0m in \u001b[0;36mget_loc\u001b[0;34m(self, key)\u001b[0m\n\u001b[1;32m   3804\u001b[0m         \u001b[0;32mtry\u001b[0m\u001b[0;34m:\u001b[0m\u001b[0;34m\u001b[0m\u001b[0;34m\u001b[0m\u001b[0m\n\u001b[0;32m-> 3805\u001b[0;31m             \u001b[0;32mreturn\u001b[0m \u001b[0mself\u001b[0m\u001b[0;34m.\u001b[0m\u001b[0m_engine\u001b[0m\u001b[0;34m.\u001b[0m\u001b[0mget_loc\u001b[0m\u001b[0;34m(\u001b[0m\u001b[0mcasted_key\u001b[0m\u001b[0;34m)\u001b[0m\u001b[0;34m\u001b[0m\u001b[0;34m\u001b[0m\u001b[0m\n\u001b[0m\u001b[1;32m   3806\u001b[0m         \u001b[0;32mexcept\u001b[0m \u001b[0mKeyError\u001b[0m \u001b[0;32mas\u001b[0m \u001b[0merr\u001b[0m\u001b[0;34m:\u001b[0m\u001b[0;34m\u001b[0m\u001b[0;34m\u001b[0m\u001b[0m\n",
            "\u001b[0;32mindex.pyx\u001b[0m in \u001b[0;36mpandas._libs.index.IndexEngine.get_loc\u001b[0;34m()\u001b[0m\n",
            "\u001b[0;32mindex.pyx\u001b[0m in \u001b[0;36mpandas._libs.index.IndexEngine.get_loc\u001b[0;34m()\u001b[0m\n",
            "\u001b[0;32mpandas/_libs/hashtable_class_helper.pxi\u001b[0m in \u001b[0;36mpandas._libs.hashtable.PyObjectHashTable.get_item\u001b[0;34m()\u001b[0m\n",
            "\u001b[0;32mpandas/_libs/hashtable_class_helper.pxi\u001b[0m in \u001b[0;36mpandas._libs.hashtable.PyObjectHashTable.get_item\u001b[0;34m()\u001b[0m\n",
            "\u001b[0;31mKeyError\u001b[0m: 'end date'",
            "\nThe above exception was the direct cause of the following exception:\n",
            "\u001b[0;31mKeyError\u001b[0m                                  Traceback (most recent call last)",
            "\u001b[0;32m/tmp/ipython-input-1831300937.py\u001b[0m in \u001b[0;36m<cell line: 0>\u001b[0;34m()\u001b[0m\n\u001b[1;32m     13\u001b[0m     \u001b[0;32mreturn\u001b[0m \u001b[0mdf\u001b[0m\u001b[0;34m\u001b[0m\u001b[0;34m\u001b[0m\u001b[0m\n\u001b[1;32m     14\u001b[0m \u001b[0;34m\u001b[0m\u001b[0m\n\u001b[0;32m---> 15\u001b[0;31m \u001b[0mread24\u001b[0m \u001b[0;34m=\u001b[0m \u001b[0mclean_data\u001b[0m\u001b[0;34m(\u001b[0m\u001b[0mread24\u001b[0m\u001b[0;34m)\u001b[0m\u001b[0;34m\u001b[0m\u001b[0;34m\u001b[0m\u001b[0m\n\u001b[0m\u001b[1;32m     16\u001b[0m \u001b[0mread24\u001b[0m\u001b[0;34m.\u001b[0m\u001b[0mhead\u001b[0m\u001b[0;34m(\u001b[0m\u001b[0;34m)\u001b[0m\u001b[0;34m\u001b[0m\u001b[0;34m\u001b[0m\u001b[0m\n",
            "\u001b[0;32m/tmp/ipython-input-1831300937.py\u001b[0m in \u001b[0;36mclean_data\u001b[0;34m(df)\u001b[0m\n\u001b[1;32m      9\u001b[0m \u001b[0;34m\u001b[0m\u001b[0m\n\u001b[1;32m     10\u001b[0m     \u001b[0;31m#convert dates\u001b[0m\u001b[0;34m\u001b[0m\u001b[0;34m\u001b[0m\u001b[0m\n\u001b[0;32m---> 11\u001b[0;31m     \u001b[0mdf\u001b[0m\u001b[0;34m[\u001b[0m\u001b[0;34m\"end date\"\u001b[0m\u001b[0;34m]\u001b[0m \u001b[0;34m=\u001b[0m \u001b[0mpd\u001b[0m\u001b[0;34m.\u001b[0m\u001b[0mto_datetime\u001b[0m\u001b[0;34m(\u001b[0m\u001b[0mdf\u001b[0m\u001b[0;34m[\u001b[0m\u001b[0;34m\"end date\"\u001b[0m\u001b[0;34m]\u001b[0m\u001b[0;34m,\u001b[0m \u001b[0merrors\u001b[0m\u001b[0;34m=\u001b[0m\u001b[0;34m\"coerce\"\u001b[0m\u001b[0;34m)\u001b[0m\u001b[0;34m\u001b[0m\u001b[0;34m\u001b[0m\u001b[0m\n\u001b[0m\u001b[1;32m     12\u001b[0m     \u001b[0mdf\u001b[0m\u001b[0;34m[\u001b[0m\u001b[0;34m\"year pub\"\u001b[0m\u001b[0;34m]\u001b[0m\u001b[0;34m=\u001b[0m \u001b[0mdf\u001b[0m\u001b[0;34m[\u001b[0m\u001b[0;34m\"year pub\"\u001b[0m\u001b[0;34m]\u001b[0m\u001b[0;34m.\u001b[0m\u001b[0mstr\u001b[0m\u001b[0;34m.\u001b[0m\u001b[0mreplace\u001b[0m\u001b[0;34m(\u001b[0m\u001b[0;34m\",\"\u001b[0m\u001b[0;34m,\u001b[0m \u001b[0;34m\"\"\u001b[0m\u001b[0;34m,\u001b[0m \u001b[0mregex\u001b[0m\u001b[0;34m=\u001b[0m\u001b[0;32mFalse\u001b[0m\u001b[0;34m)\u001b[0m\u001b[0;34m.\u001b[0m\u001b[0mastype\u001b[0m\u001b[0;34m(\u001b[0m\u001b[0mfloat\u001b[0m\u001b[0;34m)\u001b[0m\u001b[0;34m\u001b[0m\u001b[0;34m\u001b[0m\u001b[0m\n\u001b[1;32m     13\u001b[0m     \u001b[0;32mreturn\u001b[0m \u001b[0mdf\u001b[0m\u001b[0;34m\u001b[0m\u001b[0;34m\u001b[0m\u001b[0m\n",
            "\u001b[0;32m/usr/local/lib/python3.11/dist-packages/pandas/core/frame.py\u001b[0m in \u001b[0;36m__getitem__\u001b[0;34m(self, key)\u001b[0m\n\u001b[1;32m   4100\u001b[0m             \u001b[0;32mif\u001b[0m \u001b[0mself\u001b[0m\u001b[0;34m.\u001b[0m\u001b[0mcolumns\u001b[0m\u001b[0;34m.\u001b[0m\u001b[0mnlevels\u001b[0m \u001b[0;34m>\u001b[0m \u001b[0;36m1\u001b[0m\u001b[0;34m:\u001b[0m\u001b[0;34m\u001b[0m\u001b[0;34m\u001b[0m\u001b[0m\n\u001b[1;32m   4101\u001b[0m                 \u001b[0;32mreturn\u001b[0m \u001b[0mself\u001b[0m\u001b[0;34m.\u001b[0m\u001b[0m_getitem_multilevel\u001b[0m\u001b[0;34m(\u001b[0m\u001b[0mkey\u001b[0m\u001b[0;34m)\u001b[0m\u001b[0;34m\u001b[0m\u001b[0;34m\u001b[0m\u001b[0m\n\u001b[0;32m-> 4102\u001b[0;31m             \u001b[0mindexer\u001b[0m \u001b[0;34m=\u001b[0m \u001b[0mself\u001b[0m\u001b[0;34m.\u001b[0m\u001b[0mcolumns\u001b[0m\u001b[0;34m.\u001b[0m\u001b[0mget_loc\u001b[0m\u001b[0;34m(\u001b[0m\u001b[0mkey\u001b[0m\u001b[0;34m)\u001b[0m\u001b[0;34m\u001b[0m\u001b[0;34m\u001b[0m\u001b[0m\n\u001b[0m\u001b[1;32m   4103\u001b[0m             \u001b[0;32mif\u001b[0m \u001b[0mis_integer\u001b[0m\u001b[0;34m(\u001b[0m\u001b[0mindexer\u001b[0m\u001b[0;34m)\u001b[0m\u001b[0;34m:\u001b[0m\u001b[0;34m\u001b[0m\u001b[0;34m\u001b[0m\u001b[0m\n\u001b[1;32m   4104\u001b[0m                 \u001b[0mindexer\u001b[0m \u001b[0;34m=\u001b[0m \u001b[0;34m[\u001b[0m\u001b[0mindexer\u001b[0m\u001b[0;34m]\u001b[0m\u001b[0;34m\u001b[0m\u001b[0;34m\u001b[0m\u001b[0m\n",
            "\u001b[0;32m/usr/local/lib/python3.11/dist-packages/pandas/core/indexes/base.py\u001b[0m in \u001b[0;36mget_loc\u001b[0;34m(self, key)\u001b[0m\n\u001b[1;32m   3810\u001b[0m             ):\n\u001b[1;32m   3811\u001b[0m                 \u001b[0;32mraise\u001b[0m \u001b[0mInvalidIndexError\u001b[0m\u001b[0;34m(\u001b[0m\u001b[0mkey\u001b[0m\u001b[0;34m)\u001b[0m\u001b[0;34m\u001b[0m\u001b[0;34m\u001b[0m\u001b[0m\n\u001b[0;32m-> 3812\u001b[0;31m             \u001b[0;32mraise\u001b[0m \u001b[0mKeyError\u001b[0m\u001b[0;34m(\u001b[0m\u001b[0mkey\u001b[0m\u001b[0;34m)\u001b[0m \u001b[0;32mfrom\u001b[0m \u001b[0merr\u001b[0m\u001b[0;34m\u001b[0m\u001b[0;34m\u001b[0m\u001b[0m\n\u001b[0m\u001b[1;32m   3813\u001b[0m         \u001b[0;32mexcept\u001b[0m \u001b[0mTypeError\u001b[0m\u001b[0;34m:\u001b[0m\u001b[0;34m\u001b[0m\u001b[0;34m\u001b[0m\u001b[0m\n\u001b[1;32m   3814\u001b[0m             \u001b[0;31m# If we have a listlike key, _check_indexing_error will raise\u001b[0m\u001b[0;34m\u001b[0m\u001b[0;34m\u001b[0m\u001b[0m\n",
            "\u001b[0;31mKeyError\u001b[0m: 'end date'"
          ]
        }
      ]
    },
    {
      "cell_type": "code",
      "source": [
        "#analysis functions\n",
        "def books_per_month(df):\n",
        "    #calculate books read per month\n",
        "    return print(df.groupby(df[\"date read\"].dt.to_period(\"M\")).size())\n",
        "\n",
        "def average_rating(df):\n",
        "    #calculate average star rating of books read\n",
        "    return print(\"average rating:\", df[\"star rating\"].mean())\n",
        "\n",
        "def average_pages(df):\n",
        "    #calculate average page count of books read\n",
        "    return print(\"average page count:\", df[\"page count\"].mean())\n",
        "\n",
        "def average_yearpub(df):\n",
        "    #calculate average publication year of books read\n",
        "    return print(\"average publication year:\", df[\"year pub\"].mean())\n",
        "\n",
        "def average_timelen(df):\n",
        "    #calculate average time of books read\n",
        "    return print(\"average time length:\", df[\"time length\"].mean())\n",
        "\n",
        "def top_ratedbook(df):\n",
        "    #find the top rated books\n",
        "    max_rating = df[\"star rating\"].max()\n",
        "    top_books = df[df[\"star rating\"] == max_rating][[\"title\", \"author\", \"star rating\"]]\n",
        "    print(\"top rated books:\")\n",
        "    print(top_books.to_string(index=False))\n",
        "\n",
        "def top_authors(df, n=5):\n",
        "    #find the top N most-read authors\n",
        "    print(\"top authors:\")\n",
        "    print(df[\"author\"].value_counts().head(n))\n",
        "\n",
        "def top_genres(df, n=5):\n",
        "    #find the top N most-read genres\n",
        "    print(\"top most-read genres:\")\n",
        "    print(df[\"genre\"].value_counts().head(n))\n",
        "\n",
        "def top_subgenres(df, n=5):\n",
        "    #find the top N most-read sub-genres\n",
        "    print(\"top most-read sub-genres:\")\n",
        "    print(df[\"sub-genre\"].value_counts().head(n))"
      ],
      "metadata": {
        "id": "oCHAJ9Q8pdbI"
      },
      "execution_count": 78,
      "outputs": []
    },
    {
      "cell_type": "code",
      "source": [
        "#plot functions\n",
        "def plot_books_per_month(df):\n",
        "    \"\"\"Plot number of books read per month.\"\"\"\n",
        "    monthly_counts = books_per_month(df)\n",
        "    monthly_counts.plot(kind=\"bar\", figsize=(10, 6))\n",
        "    plt.title(\"Books Read per Month\")\n",
        "    plt.ylabel(\"Number of Books\")\n",
        "    plt.xlabel(\"Month\")\n",
        "    plt.tight_layout()\n",
        "    plt.show()\n",
        "\n",
        "def plot_genres(df):\n",
        "    \"\"\"Plot top 5 main genres.\"\"\"\n",
        "    monthly_counts = top_genres(df, n=5)\n",
        "    monthly_counts.plot(kind=\"bar\", figsize=(10, 6))\n",
        "    plt.title(\"Top 5 main genres\")\n",
        "    plt.ylabel(\"Number of Books\")\n",
        "    plt.xlabel(\"Main Genres\")\n",
        "    plt.tight_layout()\n",
        "    plt.show()\n",
        "\n",
        "def plot_subgenres(df):\n",
        "    \"\"\"Plot top 5 sub-genres.\"\"\"\n",
        "    monthly_counts = top_genres(df, n=5)\n",
        "    monthly_counts.plot(kind=\"bar\", figsize=(10, 6))\n",
        "    plt.title(\"Top 5 sub-genres\")\n",
        "    plt.ylabel(\"Number of Books\")\n",
        "    plt.xlabel(\"Sub-genres\")\n",
        "    plt.tight_layout()\n",
        "    plt.show()"
      ],
      "metadata": {
        "id": "ivIRfgFjw68P"
      },
      "execution_count": 43,
      "outputs": []
    },
    {
      "cell_type": "code",
      "source": [
        "#2024 plug-in\n",
        "#books_per_month(read24) *** need to fix\n",
        "average_rating(read24)\n",
        "average_pages(read24)\n",
        "average_yearpub(read24)\n",
        "average_timelen(read24)\n",
        "top_ratedbook(read24)\n",
        "top_authors(read24)\n",
        "top_genres(read24)\n",
        "top_subgenres(read24)"
      ],
      "metadata": {
        "id": "4_HnAeC3yIBq",
        "colab": {
          "base_uri": "https://localhost:8080/"
        },
        "outputId": "2ca3d1df-d686-4b49-da11-4cd85af0f17e"
      },
      "execution_count": 79,
      "outputs": [
        {
          "output_type": "stream",
          "name": "stdout",
          "text": [
            "average rating: 3.965\n",
            "average page count: 325.42\n",
            "average publication year: 2020.35\n",
            "average time length: 22.73\n",
            "top rated books:\n",
            " star rating                 title        author\n",
            "         5.0 the horse and his boy    c.s. lewis\n",
            "         5.0                 babel    r.f. kuang\n",
            "         5.0      queen of shadows sarah j. maas\n",
            "         5.0      empire of storms sarah j. maas\n",
            "         5.0       charlotte's web    e.b. white\n",
            "top authors:\n",
            "author\n",
            "sarah j. maas      6\n",
            "agatha christie    6\n",
            "elsie silver       4\n",
            "neal shusterman    4\n",
            "leigh bardugo      4\n",
            "Name: count, dtype: int64\n",
            "top most-read genres:\n",
            "genre\n",
            "romance      54\n",
            "fantasy      18\n",
            "mystery      14\n",
            "dystopian     4\n",
            "memoir        3\n",
            "Name: count, dtype: int64\n",
            "top most-read sub-genres:\n",
            "sub-genre\n",
            "teen/ya         19\n",
            "adult           18\n",
            "holiday         11\n",
            "contemporary    10\n",
            "western          6\n",
            "Name: count, dtype: int64\n"
          ]
        }
      ]
    }
  ]
}