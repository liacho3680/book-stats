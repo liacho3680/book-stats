{
  "nbformat": 4,
  "nbformat_minor": 0,
  "metadata": {
    "colab": {
      "provenance": [],
      "authorship_tag": "ABX9TyMKb/mZE4bwFSrGPFYnJa6g"
    },
    "kernelspec": {
      "name": "python3",
      "display_name": "Python 3"
    },
    "language_info": {
      "name": "python"
    }
  },
  "cells": [
    {
      "cell_type": "code",
      "execution_count": 1,
      "metadata": {
        "id": "dM5N5ZLSmYl9"
      },
      "outputs": [],
      "source": [
        "#import packages\n",
        "import pandas as pd\n",
        "import math\n",
        "import matplotlib.pyplot as plt\n",
        "import seaborn as sns"
      ]
    },
    {
      "cell_type": "code",
      "source": [
        "#load & process data\n",
        "read22 = pd.read_csv('book-stats-data/read-2022.csv')\n",
        "read23 = pd.read_csv('book-stats-data/read-2023.csv')\n",
        "read24 = pd.read_csv('book-stats-data/read-2024.csv')\n",
        "\n",
        "\n",
        "#joint-read = pd.concat(, ignore_index=True)"
      ],
      "metadata": {
        "id": "T6nejGoem6vK"
      },
      "execution_count": 3,
      "outputs": []
    },
    {
      "cell_type": "code",
      "source": [
        "#analysis functions\n",
        "def books_per_month(df):\n",
        "    \"\"\"Calculate books read per month.\"\"\"\n",
        "    return df.groupby(df[\"date read\"].dt.to_period(\"M\")).size()\n",
        "\n",
        "def average_rating(df):\n",
        "    \"\"\"Calculate average star rating of books read.\"\"\"\n",
        "    return df[\"star rating\"].mean()\n",
        "\n",
        "def average_pages(df):\n",
        "    \"\"\"Calculate average page count of books read.\"\"\"\n",
        "    return df[\"page count\"].mean()\n",
        "\n",
        "def average_yearpub(df):\n",
        "    \"\"\"Calculate average publication year of books read.\"\"\"\n",
        "    return df[\"year pub\"].mean()\n",
        "\n",
        "def average_timelen(df):\n",
        "    \"\"\"Calculate average time of books read.\"\"\"\n",
        "    return df[\"time length\"].mean()\n",
        "\n",
        "def top_authors(df, n=5):\n",
        "    \"\"\"Find the top N most-read authors.\"\"\"\n",
        "    return df[\"author\"].value_counts().head(n)\n",
        "\n",
        "def top_genres(df, n=5):\n",
        "    \"\"\"Find the top N most-read genres.\"\"\"\n",
        "    return df[\"genre\"].value_counts().head(n)\n",
        "\n",
        "def top_subgenres(df, n=5):\n",
        "    \"\"\"Find the top N most-read sub-genres.\"\"\"\n",
        "    return df[\"sub-genre\"].value_counts().head(n)"
      ],
      "metadata": {
        "id": "oCHAJ9Q8pdbI"
      },
      "execution_count": null,
      "outputs": []
    },
    {
      "cell_type": "code",
      "source": [
        "#plot functions\n",
        "def plot_books_per_month(df):\n",
        "    \"\"\"Plot number of books read per month.\"\"\"\n",
        "    monthly_counts = books_per_month(df)\n",
        "    monthly_counts.plot(kind=\"bar\", figsize=(10, 6))\n",
        "    plt.title(\"Books Read per Month\")\n",
        "    plt.ylabel(\"Number of Books\")\n",
        "    plt.xlabel(\"Month\")\n",
        "    plt.tight_layout()\n",
        "    plt.show()\n",
        "\n",
        "def plot_genres(df):\n",
        "    \"\"\"Plot top 5 main genres.\"\"\"\n",
        "    monthly_counts = top_genres(df, n=5)\n",
        "    monthly_counts.plot(kind=\"bar\", figsize=(10, 6))\n",
        "    plt.title(\"Top 5 main genres\")\n",
        "    plt.ylabel(\"Number of Books\")\n",
        "    plt.xlabel(\"Main Genres\")\n",
        "    plt.tight_layout()\n",
        "    plt.show()\n",
        "\n",
        "def plot_subgenres(df):\n",
        "    \"\"\"Plot top 5 sub-genres.\"\"\"\n",
        "    monthly_counts = top_genres(df, n=5)\n",
        "    monthly_counts.plot(kind=\"bar\", figsize=(10, 6))\n",
        "    plt.title(\"Top 5 sub-genres\")\n",
        "    plt.ylabel(\"Number of Books\")\n",
        "    plt.xlabel(\"Sub-genres\")\n",
        "    plt.tight_layout()\n",
        "    plt.show()"
      ],
      "metadata": {
        "id": "ivIRfgFjw68P"
      },
      "execution_count": null,
      "outputs": []
    },
    {
      "cell_type": "code",
      "source": [],
      "metadata": {
        "id": "4_HnAeC3yIBq"
      },
      "execution_count": null,
      "outputs": []
    }
  ]
}